{
 "cells": [
  {
   "cell_type": "code",
   "execution_count": 2,
   "metadata": {},
   "outputs": [
    {
     "name": "stdout",
     "output_type": "stream",
     "text": [
      "hi c\n"
     ]
    }
   ],
   "source": [
    "print(\"hi c\")"
   ]
  },
  {
   "cell_type": "code",
   "execution_count": 3,
   "metadata": {},
   "outputs": [
    {
     "name": "stdout",
     "output_type": "stream",
     "text": [
      "Package             Version\n",
      "------------------- ----------\n",
      "appnope             0.1.0\n",
      "argon2-cffi         20.1.0\n",
      "async-generator     1.10\n",
      "attrs               20.3.0\n",
      "backcall            0.2.0\n",
      "bleach              3.2.1\n",
      "certifi             2020.11.8\n",
      "cffi                1.14.4\n",
      "chardet             3.0.4\n",
      "click               7.1.2\n",
      "cycler              0.10.0\n",
      "decorator           4.4.2\n",
      "defusedxml          0.6.0\n",
      "entrypoints         0.3\n",
      "idna                2.10\n",
      "imageio             2.9.0\n",
      "ipykernel           5.3.4\n",
      "ipython             7.19.0\n",
      "ipython-genutils    0.2.0\n",
      "ipywidgets          7.5.1\n",
      "jedi                0.17.2\n",
      "Jinja2              2.11.2\n",
      "joblib              0.17.0\n",
      "jsonschema          3.2.0\n",
      "jupyter             1.0.0\n",
      "jupyter-client      6.1.7\n",
      "jupyter-console     6.2.0\n",
      "jupyter-core        4.7.0\n",
      "jupyterlab-pygments 0.1.2\n",
      "kiwisolver          1.3.1\n",
      "MarkupSafe          1.1.1\n",
      "matplotlib          3.3.3\n",
      "mistune             0.8.4\n",
      "nbclient            0.5.1\n",
      "nbconvert           6.0.7\n",
      "nbformat            5.0.8\n",
      "nest-asyncio        1.4.3\n",
      "networkx            2.5\n",
      "notebook            6.1.5\n",
      "numpy               1.19.4\n",
      "packaging           20.4\n",
      "pandas              1.1.4\n",
      "pandocfilters       1.4.3\n",
      "parso               0.7.1\n",
      "pexpect             4.8.0\n",
      "pickleshare         0.7.5\n",
      "Pillow              8.0.1\n",
      "pip                 20.2.4\n",
      "pip-tools           5.4.0\n",
      "prometheus-client   0.9.0\n",
      "prompt-toolkit      3.0.8\n",
      "ptyprocess          0.6.0\n",
      "pycparser           2.20\n",
      "Pygments            2.7.2\n",
      "pyparsing           2.4.7\n",
      "pyrsistent          0.17.3\n",
      "python-dateutil     2.8.1\n",
      "pytz                2020.4\n",
      "PyWavelets          1.1.1\n",
      "pyzmq               20.0.0\n",
      "qtconsole           5.0.1\n",
      "QtPy                1.9.0\n",
      "requests            2.25.0\n",
      "scikit-image        0.17.2\n",
      "scikit-learn        0.23.2\n",
      "scipy               1.5.4\n",
      "Send2Trash          1.5.0\n",
      "setuptools          49.2.1\n",
      "six                 1.15.0\n",
      "terminado           0.9.1\n",
      "testpath            0.4.4\n",
      "threadpoolctl       2.1.0\n",
      "tifffile            2020.11.18\n",
      "tornado             6.1\n",
      "traitlets           5.0.5\n",
      "urllib3             1.26.2\n",
      "wcwidth             0.2.5\n",
      "webencodings        0.5.1\n",
      "widgetsnbextension  3.5.1\n",
      "Note: you may need to restart the kernel to use updated packages.\n"
     ]
    }
   ],
   "source": [
    "pip list"
   ]
  },
  {
   "cell_type": "code",
   "execution_count": null,
   "metadata": {},
   "outputs": [],
   "source": []
  },
  {
   "cell_type": "code",
   "execution_count": null,
   "metadata": {},
   "outputs": [],
   "source": []
  }
 ],
 "metadata": {
  "kernelspec": {
   "display_name": "localml",
   "language": "python",
   "name": "localml"
  },
  "language_info": {
   "codemirror_mode": {
    "name": "ipython",
    "version": 3
   },
   "file_extension": ".py",
   "mimetype": "text/x-python",
   "name": "python",
   "nbconvert_exporter": "python",
   "pygments_lexer": "ipython3",
   "version": "3.8.6"
  }
 },
 "nbformat": 4,
 "nbformat_minor": 4
}
