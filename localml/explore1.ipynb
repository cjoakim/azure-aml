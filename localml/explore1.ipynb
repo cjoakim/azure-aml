{
 "cells": [
  {
   "cell_type": "markdown",
   "metadata": {},
   "source": [
    "### These are some local datasets in this repo, within the localml/ directory\n",
    "\n",
    "```\n",
    "datasets/airports/busiest_airports_2017.csv\n",
    "datasets/airports/openflights_airlines.csv\n",
    "datasets/airports/openflights_airports.csv\n",
    "datasets/airports/openflights_routes.csv\n",
    "datasets/housing/housing.csv\n",
    "datasets/housing/housing.tgz\n",
    "datasets/postal_codes/postal_codes_us.csv\n",
    "datasets/postal_codes/us_states.csv\n",
    "```\n"
   ]
  },
  {
   "cell_type": "code",
   "execution_count": 2,
   "metadata": {},
   "outputs": [
    {
     "name": "stdout",
     "output_type": "stream",
     "text": [
      "functions cell has executed\n"
     ]
    }
   ],
   "source": [
    "import pandas as pd\n",
    "\n",
    "def load_usa_postal_codes():\n",
    "    path = 'datasets/postal_codes/postal_codes_us.csv'\n",
    "    return pd.read_csv(path)\n",
    "\n",
    "print('functions cell has executed')"
   ]
  },
  {
   "cell_type": "code",
   "execution_count": 9,
   "metadata": {},
   "outputs": [
    {
     "data": {
      "text/html": [
       "<div>\n",
       "<style scoped>\n",
       "    .dataframe tbody tr th:only-of-type {\n",
       "        vertical-align: middle;\n",
       "    }\n",
       "\n",
       "    .dataframe tbody tr th {\n",
       "        vertical-align: top;\n",
       "    }\n",
       "\n",
       "    .dataframe thead th {\n",
       "        text-align: right;\n",
       "    }\n",
       "</style>\n",
       "<table border=\"1\" class=\"dataframe\">\n",
       "  <thead>\n",
       "    <tr style=\"text-align: right;\">\n",
       "      <th></th>\n",
       "      <th>id</th>\n",
       "      <th>postal_cd</th>\n",
       "      <th>country_cd</th>\n",
       "      <th>city_name</th>\n",
       "      <th>state_abbrv</th>\n",
       "      <th>latitude</th>\n",
       "      <th>longitude</th>\n",
       "    </tr>\n",
       "  </thead>\n",
       "  <tbody>\n",
       "    <tr>\n",
       "      <th>0</th>\n",
       "      <td>1</td>\n",
       "      <td>501</td>\n",
       "      <td>US</td>\n",
       "      <td>Holtsville</td>\n",
       "      <td>NY</td>\n",
       "      <td>40.815400</td>\n",
       "      <td>-73.045600</td>\n",
       "    </tr>\n",
       "    <tr>\n",
       "      <th>1</th>\n",
       "      <td>2</td>\n",
       "      <td>544</td>\n",
       "      <td>US</td>\n",
       "      <td>Holtsville</td>\n",
       "      <td>NY</td>\n",
       "      <td>40.815400</td>\n",
       "      <td>-73.045600</td>\n",
       "    </tr>\n",
       "    <tr>\n",
       "      <th>2</th>\n",
       "      <td>3</td>\n",
       "      <td>601</td>\n",
       "      <td>US</td>\n",
       "      <td>Adjuntas</td>\n",
       "      <td>PR</td>\n",
       "      <td>18.196747</td>\n",
       "      <td>-66.736735</td>\n",
       "    </tr>\n",
       "    <tr>\n",
       "      <th>3</th>\n",
       "      <td>4</td>\n",
       "      <td>602</td>\n",
       "      <td>US</td>\n",
       "      <td>Aguada</td>\n",
       "      <td>PR</td>\n",
       "      <td>18.352927</td>\n",
       "      <td>-67.177532</td>\n",
       "    </tr>\n",
       "    <tr>\n",
       "      <th>4</th>\n",
       "      <td>5</td>\n",
       "      <td>603</td>\n",
       "      <td>US</td>\n",
       "      <td>Aguadilla</td>\n",
       "      <td>PR</td>\n",
       "      <td>18.458585</td>\n",
       "      <td>-67.129867</td>\n",
       "    </tr>\n",
       "  </tbody>\n",
       "</table>\n",
       "</div>"
      ],
      "text/plain": [
       "   id  postal_cd country_cd   city_name state_abbrv   latitude  longitude\n",
       "0   1        501         US  Holtsville          NY  40.815400 -73.045600\n",
       "1   2        544         US  Holtsville          NY  40.815400 -73.045600\n",
       "2   3        601         US    Adjuntas          PR  18.196747 -66.736735\n",
       "3   4        602         US      Aguada          PR  18.352927 -67.177532\n",
       "4   5        603         US   Aguadilla          PR  18.458585 -67.129867"
      ]
     },
     "execution_count": 9,
     "metadata": {},
     "output_type": "execute_result"
    }
   ],
   "source": [
    "df = load_usa_postal_codes()\n",
    "df.head()\n",
    "#df.describe()"
   ]
  },
  {
   "cell_type": "code",
   "execution_count": null,
   "metadata": {},
   "outputs": [],
   "source": []
  }
 ],
 "metadata": {
  "kernelspec": {
   "display_name": "localml",
   "language": "python",
   "name": "localml"
  },
  "language_info": {
   "codemirror_mode": {
    "name": "ipython",
    "version": 3
   },
   "file_extension": ".py",
   "mimetype": "text/x-python",
   "name": "python",
   "nbconvert_exporter": "python",
   "pygments_lexer": "ipython3",
   "version": "3.8.6"
  }
 },
 "nbformat": 4,
 "nbformat_minor": 4
}
