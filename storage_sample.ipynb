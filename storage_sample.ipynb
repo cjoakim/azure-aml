{
 "cells": [
  {
   "cell_type": "code",
   "execution_count": 3,
   "metadata": {
    "gather": {
     "logged": 1607098636572
    }
   },
   "outputs": [
    {
     "name": "stdout",
     "output_type": "stream",
     "text": [
      "Azure Blob storage v12.5.0 - Python quickstart sample\n",
      "<azure.storage.blob._blob_service_client.BlobServiceClient object at 0x7f9433e79a20>\n",
      "adfsource\n",
      "azureml-blobstore-f40be0d4-1c4f-4bb8-a8cb-23259144f465\n",
      "insiders\n",
      "iot\n",
      "processed\n",
      "simulations\n",
      "subscription\n",
      "test\n",
      "download_blob: test postal_codes_nc.csv -> postal_codes_nc.csv\n",
      "      id  postal_cd country_cd     city_name state_abbrv   latitude  longitude\n",
      "0  10949      27006         US       Advance          NC  35.944562 -80.437631\n",
      "1  10950      27007         US        Ararat          NC  36.376884 -80.596265\n",
      "2  10951      27009         US  Belews Creek          NC  36.223930 -80.080018\n",
      "3  10952      27010         US      Bethania          NC  36.182200 -80.338400\n",
      "4  10953      27011         US     Boonville          NC  36.209184 -80.693772\n",
      "   postal_cd country_cd     city_name state_abbrv   latitude  longitude\n",
      "0      27006         US       Advance          NC  35.944562 -80.437631\n",
      "1      27007         US        Ararat          NC  36.376884 -80.596265\n",
      "2      27009         US  Belews Creek          NC  36.223930 -80.080018\n",
      "3      27010         US      Bethania          NC  36.182200 -80.338400\n",
      "4      27011         US     Boonville          NC  36.209184 -80.693772\n",
      "modified_1607099097.csv\n",
      "df2 saved to local csv file: modified_1607099097.csv\n",
      "upload_blob: modified_1607099097.csv -> test modified_1607099097.csv\n"
     ]
    }
   ],
   "source": [
    "import os\n",
    "import time\n",
    "import uuid\n",
    "import pandas as pd\n",
    "from azure.storage.blob import BlobServiceClient, BlobClient, ContainerClient, __version__\n",
    "\n",
    "try:\n",
    "    conn_str = \""\n",
    "    print(\"Azure Blob storage v\" + __version__ + \" - Python quickstart sample\")\n",
    "    blob_service_client = BlobServiceClient.from_connection_string(conn_str)\n",
    "    print(blob_service_client)\n",
    "\n",
    "    # list the containers in the blob storage account\n",
    "    containers = blob_service_client.list_containers()\n",
    "    for c in containers:\n",
    "        print(c['name'])\n",
    "\n",
    "    # download file postal_codes_nc.csv in the test container\n",
    "    cname = 'test'\n",
    "    blob_name = 'postal_codes_nc.csv'\n",
    "    local_file_path = 'postal_codes_nc.csv'\n",
    "    blob_client = blob_service_client.get_blob_client(container=cname, blob=blob_name)\n",
    "    with open(local_file_path, \"wb\") as download_file:\n",
    "        download_file.write(blob_client.download_blob().readall())\n",
    "        print('download_blob: {} {} -> {}'.format(cname, blob_name, local_file_path))\n",
    "\n",
    "    # process the downloaded csv file with pandas\n",
    "    df = pd.read_csv(local_file_path)\n",
    "    print(df.head())\n",
    "    df2 = df.drop('id', axis=1) \n",
    "    print(df2.head())\n",
    "\n",
    "    # save the modified dataframe to a local cs file\n",
    "    blob_name = 'modified_{}.csv'.format(int(time.time()))\n",
    "    local_file_path = blob_name\n",
    "    print(blob_name)\n",
    "    df2.to_csv(local_file_path)\n",
    "    print('df2 saved to local csv file: {}'.format(local_file_path))\n",
    "\n",
    "    # upload the modified file to storage\n",
    "    blob_client = blob_service_client.get_blob_client(container=cname, blob=blob_name)\n",
    "    with open(local_file_path, \"rb\") as data:\n",
    "        blob_client.upload_blob(data)\n",
    "        print('upload_blob: {} -> {} {}'.format(local_file_path, cname, blob_name))\n",
    "\n",
    "except Exception as ex:\n",
    "    print('Exception:')\n",
    "    print(ex)\n"
   ]
  },
  {
   "cell_type": "code",
   "execution_count": null,
   "metadata": {},
   "outputs": [],
   "source": []
  },
  {
   "cell_type": "code",
   "execution_count": null,
   "metadata": {},
   "outputs": [],
   "source": []
  },
  {
   "cell_type": "code",
   "execution_count": null,
   "metadata": {},
   "outputs": [],
   "source": []
  }
 ],
 "metadata": {
  "kernel_info": {
   "name": "python3-azureml"
  },
  "kernelspec": {
   "display_name": "Python 3.6 - AzureML",
   "language": "python",
   "name": "python3-azureml"
  },
  "language_info": {
   "codemirror_mode": {
    "name": "ipython",
    "version": 3
   },
   "file_extension": ".py",
   "mimetype": "text/x-python",
   "name": "python",
   "nbconvert_exporter": "python",
   "pygments_lexer": "ipython3",
   "version": "3.6.9"
  },
  "nteract": {
   "version": "nteract-front-end@1.0.0"
  }
 },
 "nbformat": 4,
 "nbformat_minor": 2
}
